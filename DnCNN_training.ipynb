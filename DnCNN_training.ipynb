{
  "nbformat": 4,
  "nbformat_minor": 0,
  "metadata": {
    "colab": {
      "name": "DnCNN_training",
      "provenance": [],
      "collapsed_sections": [],
      "toc_visible": true
    },
    "kernelspec": {
      "name": "python3",
      "display_name": "Python 3"
    },
    "accelerator": "GPU"
  },
  "cells": [
    {
      "cell_type": "markdown",
      "metadata": {
        "id": "FdP8pRjWHmeL"
      },
      "source": [
        "# **Training of DnCNN model**\n",
        "\n",
        "This training is based on the paper :\n",
        "\n",
        "```\n",
        "@article{zhang2017beyond,\n",
        "    title={Beyond a {Gaussian} denoiser: Residual learning of deep {CNN} for image denoising},\n",
        "    author={Zhang, Kai and Zuo, Wangmeng and Chen, Yunjin and Meng, Deyu and Zhang, Lei},\n",
        "    journal={IEEE Transactions on Image Processing},\n",
        "    year={2017},\n",
        "    volume={26}, \n",
        "    number={7}, \n",
        "    pages={3142-3155}, \n",
        "  }\n",
        "```\n",
        "And, the implementation is majorly based on: [https://github.com/cszn/DnCNN/blob/master/TrainingCodes/dncnn_keras](https://github.com/cszn/DnCNN/blob/master/TrainingCodes/dncnn_keras)"
      ]
    },
    {
      "cell_type": "code",
      "metadata": {
        "id": "KGCJoPCvve1X",
        "outputId": "31dd7060-73ab-45f1-883e-68d817fff0bf",
        "colab": {
          "base_uri": "https://localhost:8080/",
          "height": 34
        }
      },
      "source": [
        "from google.colab import drive\n",
        "drive.mount('/content/drive')"
      ],
      "execution_count": null,
      "outputs": [
        {
          "output_type": "stream",
          "text": [
            "Mounted at /content/drive\n"
          ],
          "name": "stdout"
        }
      ]
    },
    {
      "cell_type": "markdown",
      "metadata": {
        "id": "AGNk3lNbGmP7"
      },
      "source": [
        "## Patch Generator"
      ]
    },
    {
      "cell_type": "markdown",
      "metadata": {
        "id": "P4KefCGkUPSn"
      },
      "source": [
        "It is formed on the basis of architecture input requirement of size 50$\\times$50$\\times$3 with stride 20 (25$\\%$ overlap) according to the reference of authors implemetation in the code."
      ]
    },
    {
      "cell_type": "code",
      "metadata": {
        "id": "-QJmLv8uGpiQ"
      },
      "source": [
        "import cv2\n",
        "import numpy as np\n",
        "import glob\n",
        "def gen_patch(img_list):\n",
        "    Patch = []\n",
        "    patch_size = 50\n",
        "    stride = 20\n",
        "    n = len(img_list)\n",
        "    print(n)\n",
        "    for i in range(n):\n",
        "        img = cv2.imread(img_list[i])\n",
        "        for p in range(0, img.shape[0] - patch_size+1, stride):\n",
        "            for q in range(0, img.shape[1] - patch_size+1, stride):\n",
        "                height_slice = slice(p, p+patch_size)\n",
        "                width_slice = slice(q, q+patch_size)\n",
        "                patch = img[height_slice, width_slice, :]\n",
        "                Patch.append(patch)           \n",
        "\n",
        "    return np.array(Patch)  "
      ],
      "execution_count": null,
      "outputs": []
    },
    {
      "cell_type": "markdown",
      "metadata": {
        "id": "OH_gQUhIUK9T"
      },
      "source": [
        "Training and validation patches are extracted in order to do fair testing for training the architecture."
      ]
    },
    {
      "cell_type": "code",
      "metadata": {
        "id": "M9lBtMy_Gxuv",
        "outputId": "f44a2e76-871a-4d7b-8259-faf01cb809e1",
        "colab": {
          "base_uri": "https://localhost:8080/",
          "height": 51
        }
      },
      "source": [
        "train_path = '/content/drive/My Drive/BSR_bsds500/BSR/BSDS500/data/images/train'\n",
        "train_file_list = glob.glob(train_path+'/*.jpg')\n",
        "\n",
        "val_path = '/content/drive/My Drive/BSR_bsds500/BSR/BSDS500/data/images/val'\n",
        "val_file_list = glob.glob(val_path+'/*.jpg')            \n",
        "        \n",
        "Train_patch = gen_patch(train_file_list)\n",
        "Val_patch = gen_patch(val_file_list)"
      ],
      "execution_count": null,
      "outputs": [
        {
          "output_type": "stream",
          "text": [
            "200\n",
            "100\n"
          ],
          "name": "stdout"
        }
      ]
    },
    {
      "cell_type": "markdown",
      "metadata": {
        "id": "omKjjSaQwlxD"
      },
      "source": [
        "## DnCNN Model"
      ]
    },
    {
      "cell_type": "code",
      "metadata": {
        "id": "zGlS9Uxe6kfg"
      },
      "source": [
        "import time, math\n",
        "import os \n",
        "import matplotlib.pyplot as plt\n",
        "import tensorflow as tf\n",
        "from keras.preprocessing.image import ImageDataGenerator\n",
        "import keras.backend as K\n",
        "from tensorflow import keras\n",
        "from keras.layers import Input, Conv2D, Activation, BatchNormalization, Subtract\n",
        "from keras.optimizers import Adam, SGD\n",
        "from keras.callbacks import LearningRateScheduler\n",
        "from keras import Model"
      ],
      "execution_count": null,
      "outputs": []
    },
    {
      "cell_type": "markdown",
      "metadata": {
        "id": "DAGIfXDXUBN3"
      },
      "source": [
        "The class ```DnCNN_model``` is based on author github code\n",
        "\n"
      ]
    },
    {
      "cell_type": "code",
      "metadata": {
        "id": "rhHfHniogIpt"
      },
      "source": [
        "class DnCNN_model(tf.Module):\n",
        "  def __init__(self, depth, input_shape, filter, BN = True):\n",
        "    super(DnCNN_model,self).__init__()\n",
        "    self.input_shape = input_shape\n",
        "    self.filters = filters\n",
        "    self.BN = BN\n",
        "    self.depth = depth\n",
        "\n",
        "  def make_model(self):\n",
        "    # Retrieving Filters\n",
        "    F = self.filters\n",
        "    input_shape = self.input_shape\n",
        "    depth = self.depth\n",
        "    input = Input(input_shape)\n",
        "\n",
        "    x = Conv2D(F, (3, 3), padding='same', strides=(1, 1), activation='relu')(input)\n",
        "    \n",
        "    # Middle Block\n",
        "    for layers in range(depth-2):\n",
        "      x = Conv2D(F, (3, 3), padding='same', strides=(1, 1))(x)\n",
        "      if self.BN :\n",
        "        x = BatchNormalization(axis=3, momentum=0.0, epsilon=0.0001)(x)\n",
        "      x = Activation('relu')(x) \n",
        "\n",
        "    # Last Layer\n",
        "    x = Conv2D(3, (3, 3), padding='same', strides=(1, 1))(x) \n",
        "    out = Subtract()([input, x])\n",
        "    model = Model(inputs=[input], outputs=[out])\n",
        "\n",
        "    return model \n"
      ],
      "execution_count": null,
      "outputs": []
    },
    {
      "cell_type": "code",
      "metadata": {
        "id": "q61p4hXc1U_u"
      },
      "source": [
        "def PSNR(y_true, y_pred):\n",
        "    return tf.image.psnr(y_true, y_pred, max_val=1)\n",
        "\n",
        "def mse_loss(y_true, y_pred):\n",
        "    err = y_true - y_pred\n",
        "    mse = K.sum(err*err)/(2*batch_size)\n",
        "    return mse"
      ],
      "execution_count": null,
      "outputs": []
    },
    {
      "cell_type": "code",
      "metadata": {
        "id": "6f--QwtcmQxZ",
        "outputId": "71cfda39-721b-4b61-b863-a0ccc44b4d37",
        "colab": {
          "base_uri": "https://localhost:8080/",
          "height": 1000
        }
      },
      "source": [
        "depth = 20\n",
        "input_shape = (50,50,3)\n",
        "filters = 64\n",
        "model = DnCNN_model(depth, input_shape, filters, BN = True).make_model()\n",
        "model.compile(optimizer=Adam(lr=1e-4), loss=mse_loss, metrics=[PSNR])\n",
        "model.summary()"
      ],
      "execution_count": null,
      "outputs": [
        {
          "output_type": "stream",
          "text": [
            "Model: \"functional_3\"\n",
            "__________________________________________________________________________________________________\n",
            "Layer (type)                    Output Shape         Param #     Connected to                     \n",
            "==================================================================================================\n",
            "input_2 (InputLayer)            [(None, 50, 50, 3)]  0                                            \n",
            "__________________________________________________________________________________________________\n",
            "conv2d_20 (Conv2D)              (None, 50, 50, 64)   1792        input_2[0][0]                    \n",
            "__________________________________________________________________________________________________\n",
            "conv2d_21 (Conv2D)              (None, 50, 50, 64)   36928       conv2d_20[0][0]                  \n",
            "__________________________________________________________________________________________________\n",
            "batch_normalization_18 (BatchNo (None, 50, 50, 64)   256         conv2d_21[0][0]                  \n",
            "__________________________________________________________________________________________________\n",
            "activation_18 (Activation)      (None, 50, 50, 64)   0           batch_normalization_18[0][0]     \n",
            "__________________________________________________________________________________________________\n",
            "conv2d_22 (Conv2D)              (None, 50, 50, 64)   36928       activation_18[0][0]              \n",
            "__________________________________________________________________________________________________\n",
            "batch_normalization_19 (BatchNo (None, 50, 50, 64)   256         conv2d_22[0][0]                  \n",
            "__________________________________________________________________________________________________\n",
            "activation_19 (Activation)      (None, 50, 50, 64)   0           batch_normalization_19[0][0]     \n",
            "__________________________________________________________________________________________________\n",
            "conv2d_23 (Conv2D)              (None, 50, 50, 64)   36928       activation_19[0][0]              \n",
            "__________________________________________________________________________________________________\n",
            "batch_normalization_20 (BatchNo (None, 50, 50, 64)   256         conv2d_23[0][0]                  \n",
            "__________________________________________________________________________________________________\n",
            "activation_20 (Activation)      (None, 50, 50, 64)   0           batch_normalization_20[0][0]     \n",
            "__________________________________________________________________________________________________\n",
            "conv2d_24 (Conv2D)              (None, 50, 50, 64)   36928       activation_20[0][0]              \n",
            "__________________________________________________________________________________________________\n",
            "batch_normalization_21 (BatchNo (None, 50, 50, 64)   256         conv2d_24[0][0]                  \n",
            "__________________________________________________________________________________________________\n",
            "activation_21 (Activation)      (None, 50, 50, 64)   0           batch_normalization_21[0][0]     \n",
            "__________________________________________________________________________________________________\n",
            "conv2d_25 (Conv2D)              (None, 50, 50, 64)   36928       activation_21[0][0]              \n",
            "__________________________________________________________________________________________________\n",
            "batch_normalization_22 (BatchNo (None, 50, 50, 64)   256         conv2d_25[0][0]                  \n",
            "__________________________________________________________________________________________________\n",
            "activation_22 (Activation)      (None, 50, 50, 64)   0           batch_normalization_22[0][0]     \n",
            "__________________________________________________________________________________________________\n",
            "conv2d_26 (Conv2D)              (None, 50, 50, 64)   36928       activation_22[0][0]              \n",
            "__________________________________________________________________________________________________\n",
            "batch_normalization_23 (BatchNo (None, 50, 50, 64)   256         conv2d_26[0][0]                  \n",
            "__________________________________________________________________________________________________\n",
            "activation_23 (Activation)      (None, 50, 50, 64)   0           batch_normalization_23[0][0]     \n",
            "__________________________________________________________________________________________________\n",
            "conv2d_27 (Conv2D)              (None, 50, 50, 64)   36928       activation_23[0][0]              \n",
            "__________________________________________________________________________________________________\n",
            "batch_normalization_24 (BatchNo (None, 50, 50, 64)   256         conv2d_27[0][0]                  \n",
            "__________________________________________________________________________________________________\n",
            "activation_24 (Activation)      (None, 50, 50, 64)   0           batch_normalization_24[0][0]     \n",
            "__________________________________________________________________________________________________\n",
            "conv2d_28 (Conv2D)              (None, 50, 50, 64)   36928       activation_24[0][0]              \n",
            "__________________________________________________________________________________________________\n",
            "batch_normalization_25 (BatchNo (None, 50, 50, 64)   256         conv2d_28[0][0]                  \n",
            "__________________________________________________________________________________________________\n",
            "activation_25 (Activation)      (None, 50, 50, 64)   0           batch_normalization_25[0][0]     \n",
            "__________________________________________________________________________________________________\n",
            "conv2d_29 (Conv2D)              (None, 50, 50, 64)   36928       activation_25[0][0]              \n",
            "__________________________________________________________________________________________________\n",
            "batch_normalization_26 (BatchNo (None, 50, 50, 64)   256         conv2d_29[0][0]                  \n",
            "__________________________________________________________________________________________________\n",
            "activation_26 (Activation)      (None, 50, 50, 64)   0           batch_normalization_26[0][0]     \n",
            "__________________________________________________________________________________________________\n",
            "conv2d_30 (Conv2D)              (None, 50, 50, 64)   36928       activation_26[0][0]              \n",
            "__________________________________________________________________________________________________\n",
            "batch_normalization_27 (BatchNo (None, 50, 50, 64)   256         conv2d_30[0][0]                  \n",
            "__________________________________________________________________________________________________\n",
            "activation_27 (Activation)      (None, 50, 50, 64)   0           batch_normalization_27[0][0]     \n",
            "__________________________________________________________________________________________________\n",
            "conv2d_31 (Conv2D)              (None, 50, 50, 64)   36928       activation_27[0][0]              \n",
            "__________________________________________________________________________________________________\n",
            "batch_normalization_28 (BatchNo (None, 50, 50, 64)   256         conv2d_31[0][0]                  \n",
            "__________________________________________________________________________________________________\n",
            "activation_28 (Activation)      (None, 50, 50, 64)   0           batch_normalization_28[0][0]     \n",
            "__________________________________________________________________________________________________\n",
            "conv2d_32 (Conv2D)              (None, 50, 50, 64)   36928       activation_28[0][0]              \n",
            "__________________________________________________________________________________________________\n",
            "batch_normalization_29 (BatchNo (None, 50, 50, 64)   256         conv2d_32[0][0]                  \n",
            "__________________________________________________________________________________________________\n",
            "activation_29 (Activation)      (None, 50, 50, 64)   0           batch_normalization_29[0][0]     \n",
            "__________________________________________________________________________________________________\n",
            "conv2d_33 (Conv2D)              (None, 50, 50, 64)   36928       activation_29[0][0]              \n",
            "__________________________________________________________________________________________________\n",
            "batch_normalization_30 (BatchNo (None, 50, 50, 64)   256         conv2d_33[0][0]                  \n",
            "__________________________________________________________________________________________________\n",
            "activation_30 (Activation)      (None, 50, 50, 64)   0           batch_normalization_30[0][0]     \n",
            "__________________________________________________________________________________________________\n",
            "conv2d_34 (Conv2D)              (None, 50, 50, 64)   36928       activation_30[0][0]              \n",
            "__________________________________________________________________________________________________\n",
            "batch_normalization_31 (BatchNo (None, 50, 50, 64)   256         conv2d_34[0][0]                  \n",
            "__________________________________________________________________________________________________\n",
            "activation_31 (Activation)      (None, 50, 50, 64)   0           batch_normalization_31[0][0]     \n",
            "__________________________________________________________________________________________________\n",
            "conv2d_35 (Conv2D)              (None, 50, 50, 64)   36928       activation_31[0][0]              \n",
            "__________________________________________________________________________________________________\n",
            "batch_normalization_32 (BatchNo (None, 50, 50, 64)   256         conv2d_35[0][0]                  \n",
            "__________________________________________________________________________________________________\n",
            "activation_32 (Activation)      (None, 50, 50, 64)   0           batch_normalization_32[0][0]     \n",
            "__________________________________________________________________________________________________\n",
            "conv2d_36 (Conv2D)              (None, 50, 50, 64)   36928       activation_32[0][0]              \n",
            "__________________________________________________________________________________________________\n",
            "batch_normalization_33 (BatchNo (None, 50, 50, 64)   256         conv2d_36[0][0]                  \n",
            "__________________________________________________________________________________________________\n",
            "activation_33 (Activation)      (None, 50, 50, 64)   0           batch_normalization_33[0][0]     \n",
            "__________________________________________________________________________________________________\n",
            "conv2d_37 (Conv2D)              (None, 50, 50, 64)   36928       activation_33[0][0]              \n",
            "__________________________________________________________________________________________________\n",
            "batch_normalization_34 (BatchNo (None, 50, 50, 64)   256         conv2d_37[0][0]                  \n",
            "__________________________________________________________________________________________________\n",
            "activation_34 (Activation)      (None, 50, 50, 64)   0           batch_normalization_34[0][0]     \n",
            "__________________________________________________________________________________________________\n",
            "conv2d_38 (Conv2D)              (None, 50, 50, 64)   36928       activation_34[0][0]              \n",
            "__________________________________________________________________________________________________\n",
            "batch_normalization_35 (BatchNo (None, 50, 50, 64)   256         conv2d_38[0][0]                  \n",
            "__________________________________________________________________________________________________\n",
            "activation_35 (Activation)      (None, 50, 50, 64)   0           batch_normalization_35[0][0]     \n",
            "__________________________________________________________________________________________________\n",
            "conv2d_39 (Conv2D)              (None, 50, 50, 3)    1731        activation_35[0][0]              \n",
            "__________________________________________________________________________________________________\n",
            "subtract_1 (Subtract)           (None, 50, 50, 3)    0           input_2[0][0]                    \n",
            "                                                                 conv2d_39[0][0]                  \n",
            "==================================================================================================\n",
            "Total params: 672,835\n",
            "Trainable params: 670,531\n",
            "Non-trainable params: 2,304\n",
            "__________________________________________________________________________________________________\n"
          ],
          "name": "stdout"
        }
      ]
    },
    {
      "cell_type": "markdown",
      "metadata": {
        "id": "abxO_7mExCNo"
      },
      "source": [
        "## Noise Generator"
      ]
    },
    {
      "cell_type": "markdown",
      "metadata": {
        "id": "Jr1IlhbvTMfz"
      },
      "source": [
        "Due to CPU memory constraints, keras ```ImageDataGenerator``` have been used with random rotation and flip with batch size 32. Noise is generated randomly between $\\sigma$ = [5, 50] in order to match best possible general scenario."
      ]
    },
    {
      "cell_type": "code",
      "metadata": {
        "id": "Ya0jTmjdVZWK"
      },
      "source": [
        "def noise_gen(cleanImg, batch_size = 32, rot = 30, vertical_flip = True):\n",
        "  generator = ImageDataGenerator(rotation_range = rot, vertical_flip = vertical_flip, fill_mode = 'nearest')\n",
        "  for batch in generator.flow(x = cleanImg, batch_size = batch_size, seed = 3 ):\n",
        "    sigma = np.random.randint(5,50)\n",
        "    AWG_noise = np.random.normal(0.0, sigma/255.0, batch.shape)\n",
        "    noisyImg_batch = batch/255.0 + AWG_noise\n",
        "    Target_batch = batch/255.0\n",
        "    yield (noisyImg_batch, Target_batch)"
      ],
      "execution_count": null,
      "outputs": []
    },
    {
      "cell_type": "markdown",
      "metadata": {
        "id": "uMGn0T1g0Hx9"
      },
      "source": [
        "## Data Loading"
      ]
    },
    {
      "cell_type": "markdown",
      "metadata": {
        "id": "69ggWwt7T2Hf"
      },
      "source": [
        "Augmentation is employed on Training data. But, random rotation and flip are not used in validation, it only extracts the batches of validation patch. "
      ]
    },
    {
      "cell_type": "code",
      "metadata": {
        "id": "_431aiK30M0_"
      },
      "source": [
        "train_dataloader = noise_gen(Train_patch, batch_size = 32, rot = 30, vertical_flip = True)\n",
        "val_dataloader = noise_gen(Val_patch, batch_size = 32, rot = 0, vertical_flip = False)"
      ],
      "execution_count": null,
      "outputs": []
    },
    {
      "cell_type": "markdown",
      "metadata": {
        "id": "_zE_Z1mc06SZ"
      },
      "source": [
        "## Training Preparation"
      ]
    },
    {
      "cell_type": "markdown",
      "metadata": {
        "id": "v8cd36l5Sx9t"
      },
      "source": [
        "Creating directory for logging the training details and saving the \n",
        "trained model to the drive or folder."
      ]
    },
    {
      "cell_type": "code",
      "metadata": {
        "id": "LxJfEijg05WK",
        "outputId": "b2b0ce1c-6ca3-4566-d21a-bd8a922350d5",
        "colab": {
          "base_uri": "https://localhost:8080/",
          "height": 34
        }
      },
      "source": [
        "import os\n",
        "def create_directory(directory):\n",
        "    '''\n",
        "    Creates a new folder in the specified directory if the folder doesn't exist.\n",
        "    INPUT\n",
        "        directory: Folder to be created, called as \"folder/\".\n",
        "    OUTPUT\n",
        "        New folder in the current directory.\n",
        "    '''\n",
        "    if not os.path.exists(directory):\n",
        "        os.makedirs(directory)\n",
        "\n",
        "path = '/content/drive/My Drive/BSR_bsds500'\n",
        "# Name experiment\n",
        "experiment_name = \"exp-50*50_20st\"\n",
        "log_path = os.path.join(path,\"log_DnCNN\", experiment_name)\n",
        "# Make directory\n",
        "create_directory(log_path)\n",
        "print(log_path)"
      ],
      "execution_count": null,
      "outputs": [
        {
          "output_type": "stream",
          "text": [
            "/content/drive/My Drive/BSR_bsds500/log_DnCNN/exp-50*50_20st\n"
          ],
          "name": "stdout"
        }
      ]
    },
    {
      "cell_type": "markdown",
      "metadata": {
        "id": "QKdFGF8_SmvB"
      },
      "source": [
        "Checking the GPU availability for the training"
      ]
    },
    {
      "cell_type": "code",
      "metadata": {
        "id": "O0Gxa0r32P83",
        "outputId": "f765db8d-a20a-4b39-815e-70f296228cd0",
        "colab": {
          "base_uri": "https://localhost:8080/",
          "height": 34
        }
      },
      "source": [
        "import tensorflow as tf\n",
        "device_name = tf.test.gpu_device_name()\n",
        "if device_name != '/device:GPU:0':\n",
        "  raise SystemError('GPU device not found')\n",
        "print('Found GPU at: {}'.format(device_name))"
      ],
      "execution_count": null,
      "outputs": [
        {
          "output_type": "stream",
          "text": [
            "Found GPU at: /device:GPU:0\n"
          ],
          "name": "stdout"
        }
      ]
    },
    {
      "cell_type": "markdown",
      "metadata": {
        "id": "RvewhhtB1ZUE"
      },
      "source": [
        "## Training"
      ]
    },
    {
      "cell_type": "code",
      "metadata": {
        "id": "7exOGPd51Ibs",
        "outputId": "1e572f46-0aed-4061-a878-1c50ae2ed193",
        "colab": {
          "base_uri": "https://localhost:8080/",
          "height": 564
        }
      },
      "source": [
        "LR = 1e-4   # 1e-4(0.0001) \n",
        "EPOCHS = 12\n",
        "batch_size = 32\n",
        "\n",
        "# Define callbacks for learning rate scheduling, logging and best checkpoints saving\n",
        "callbacks = [\n",
        "    keras.callbacks.ModelCheckpoint('{}/{}.h5'.format(log_path, experiment_name), monitor='val_PSNR', save_best_only=True, mode='max'),\n",
        "    keras.callbacks.ReduceLROnPlateau(monitor='val_PSNR', factor=0.1, verbose=1, patience=3, mode='max'), ## new_lr = lr * factor # 5\n",
        "    keras.callbacks.EarlyStopping(monitor='val_PSNR', min_delta=0, verbose=1, patience=5, mode='max', restore_best_weights=True), # 8\n",
        "    keras.callbacks.CSVLogger('{}/training.csv'.format(log_path))\n",
        "]\n",
        "\n",
        "start_time = time.time()\n",
        "\n",
        "history = model.fit(\n",
        "    train_dataloader, \n",
        "    steps_per_epoch=len(Train_patch)*2//batch_size, \n",
        "    epochs=EPOCHS, \n",
        "    callbacks=callbacks,\n",
        "    verbose=1,\n",
        "    validation_data=val_dataloader, \n",
        "    validation_steps=len(Val_patch)//batch_size\n",
        ")\n",
        "\n",
        "end_time = time.time()\n",
        "print(\"--- Time taken to train : %s hours ---\" % ((end_time - start_time)//3600))\n"
      ],
      "execution_count": null,
      "outputs": [
        {
          "output_type": "stream",
          "text": [
            "Epoch 1/12\n",
            "3850/3850 [==============================] - 456s 118ms/step - loss: 24.1114 - PSNR: 24.1091 - val_loss: 14.2278 - val_PSNR: 25.8376\n",
            "Epoch 2/12\n",
            "3850/3850 [==============================] - 454s 118ms/step - loss: 9.9287 - PSNR: 27.2066 - val_loss: 10.7042 - val_PSNR: 26.4671\n",
            "Epoch 3/12\n",
            "3850/3850 [==============================] - 453s 118ms/step - loss: 7.8307 - PSNR: 28.2749 - val_loss: 12.0083 - val_PSNR: 26.2017\n",
            "Epoch 4/12\n",
            "3850/3850 [==============================] - 453s 118ms/step - loss: 6.7806 - PSNR: 28.8730 - val_loss: 14.6935 - val_PSNR: 24.8799\n",
            "Epoch 5/12\n",
            "3850/3850 [==============================] - ETA: 0s - loss: 5.8038 - PSNR: 29.6047\n",
            "Epoch 00005: ReduceLROnPlateau reducing learning rate to 9.999999747378752e-06.\n",
            "3850/3850 [==============================] - 453s 118ms/step - loss: 5.8038 - PSNR: 29.6047 - val_loss: 10.2119 - val_PSNR: 26.3751\n",
            "Epoch 6/12\n",
            "3850/3850 [==============================] - 453s 118ms/step - loss: 5.0140 - PSNR: 30.2572 - val_loss: 8.7173 - val_PSNR: 27.6314\n",
            "Epoch 7/12\n",
            "3850/3850 [==============================] - 454s 118ms/step - loss: 4.9895 - PSNR: 30.3423 - val_loss: 9.0873 - val_PSNR: 27.9535\n",
            "Epoch 8/12\n",
            "3850/3850 [==============================] - 453s 118ms/step - loss: 4.8014 - PSNR: 30.4719 - val_loss: 10.8076 - val_PSNR: 27.2846\n",
            "Epoch 9/12\n",
            "3850/3850 [==============================] - 453s 118ms/step - loss: 4.7557 - PSNR: 30.5275 - val_loss: 7.8140 - val_PSNR: 27.9224\n",
            "Epoch 10/12\n",
            "3850/3850 [==============================] - ETA: 0s - loss: 4.7279 - PSNR: 30.5059\n",
            "Epoch 00010: ReduceLROnPlateau reducing learning rate to 9.999999747378752e-07.\n",
            "3850/3850 [==============================] - 453s 118ms/step - loss: 4.7279 - PSNR: 30.5059 - val_loss: 8.8052 - val_PSNR: 27.8396\n",
            "Epoch 11/12\n",
            "3850/3850 [==============================] - 453s 118ms/step - loss: 4.6914 - PSNR: 30.5559 - val_loss: 10.2066 - val_PSNR: 27.5042\n",
            "Epoch 12/12\n",
            "3850/3850 [==============================] - ETA: 0s - loss: 4.6742 - PSNR: 30.6024Restoring model weights from the end of the best epoch.\n",
            "3850/3850 [==============================] - 453s 118ms/step - loss: 4.6742 - PSNR: 30.6024 - val_loss: 9.2935 - val_PSNR: 27.7625\n",
            "Epoch 00012: early stopping\n",
            "--- Time taken to train : 1.0 hours ---\n"
          ],
          "name": "stdout"
        }
      ]
    },
    {
      "cell_type": "code",
      "metadata": {
        "id": "bBCRnaWcvJJ9",
        "outputId": "dd21db2f-8a39-4f27-e564-2b3c022b74af",
        "colab": {
          "base_uri": "https://localhost:8080/",
          "height": 791
        }
      },
      "source": [
        "# Plot training & validation accuracy values\n",
        "plt.figure()\n",
        "fig = plt.gcf()\n",
        "fig.set_size_inches(6, 6)\n",
        "plt.plot(history.history['PSNR'])\n",
        "plt.plot(history.history['val_PSNR'])\n",
        "plt.title('Model PSNR Metric')\n",
        "plt.ylabel('PSNR (dB)')\n",
        "plt.xlabel('Epochs')\n",
        "plt.grid()\n",
        "plt.legend(['Train', 'Test'], loc='lower right')\n",
        "plt.show()\n",
        "\n",
        "# Plot training & validation loss values\n",
        "plt.figure()\n",
        "fig = plt.gcf()\n",
        "fig.set_size_inches(6, 6)\n",
        "plt.plot(history.history['loss'])\n",
        "plt.plot(history.history['val_loss'])\n",
        "plt.title('Model loss')\n",
        "plt.ylabel('Loss')\n",
        "plt.xlabel('Epochs')\n",
        "plt.grid()\n",
        "plt.legend(['Train', 'Test'], loc='upper right')\n",
        "plt.show()\n"
      ],
      "execution_count": null,
      "outputs": [
        {
          "output_type": "display_data",
          "data": {
            "image/png": "[encoded data removed]",
            "text/plain": [
              "<Figure size 432x432 with 1 Axes>"
            ]
          },
          "metadata": {
            "tags": [],
            "needs_background": "light"
          }
        },
        {
          "output_type": "display_data",
          "data": {
            "image/png": "[encoded data removed]",
            "text/plain": [
              "<Figure size 432x432 with 1 Axes>"
            ]
          },
          "metadata": {
            "tags": [],
            "needs_background": "light"
          }
        }
      ]
    }
  ]
}